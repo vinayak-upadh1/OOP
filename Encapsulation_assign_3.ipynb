{
  "nbformat": 4,
  "nbformat_minor": 0,
  "metadata": {
    "colab": {
      "name": "Encapsulation assign 3.ipynb",
      "provenance": [],
      "authorship_tag": "ABX9TyPxu+yEV4Yrc5A3OpaoItve",
      "include_colab_link": true
    },
    "kernelspec": {
      "name": "python3",
      "display_name": "Python 3"
    },
    "language_info": {
      "name": "python"
    }
  },
  "cells": [
    {
      "cell_type": "markdown",
      "metadata": {
        "id": "view-in-github",
        "colab_type": "text"
      },
      "source": [
        "<a href=\"https://colab.research.google.com/github/vinayak-upadh1/OOP/blob/main/Encapsulation_assign_3.ipynb\" target=\"_parent\"><img src=\"https://colab.research.google.com/assets/colab-badge.svg\" alt=\"Open In Colab\"/></a>"
      ]
    },
    {
      "cell_type": "code",
      "metadata": {
        "colab": {
          "base_uri": "https://localhost:8080/"
        },
        "id": "dT3e37J5RHEl",
        "outputId": "1d006543-5963-4673-fd34-cded80adbd47"
      },
      "source": [
        "#initialisation method  \n",
        "class Score:  \n",
        "  \n",
        "    def __init__(self,rank):  \n",
        "        self.rank = rank \n",
        "   \n",
        "    def say_rank(self):  \n",
        "        print('Your rank is', self.rank)  \n",
        "  \n",
        "    \n",
        "student_1 = Score(11) \n",
        "student_2 = Score(1)\n",
        "student_3 = Score(6)\n",
        "  \n",
        "student_1.say_rank()  \n",
        "student_2.say_rank()\n",
        "student_3.say_rank()"
      ],
      "execution_count": 1,
      "outputs": [
        {
          "output_type": "stream",
          "name": "stdout",
          "text": [
            "Your rank is 11\n",
            "Your rank is 1\n",
            "Your rank is 6\n"
          ]
        }
      ]
    },
    {
      "cell_type": "code",
      "metadata": {
        "colab": {
          "base_uri": "https://localhost:8080/"
        },
        "id": "pjNu-kTBROJW",
        "outputId": "080089cf-769c-4492-cbe6-6e6c6dbc710c"
      },
      "source": [
        "#private variable          \n",
        "\n",
        "class Score:\n",
        "    #__score is a private variable    \n",
        "    def __init__(self):\n",
        "        self.__score = 87   \n",
        "    def get_score(self):\n",
        "        print('Your score: ',(self.__score))\n",
        "    \n",
        "\n",
        "My_Score = Score()\n",
        "My_Score.get_score()\n",
        "My_Score.__score = 1        # will not change variable because its private\n",
        "My_Score.get_score()"
      ],
      "execution_count": 2,
      "outputs": [
        {
          "output_type": "stream",
          "name": "stdout",
          "text": [
            "Your score:  87\n",
            "Your score:  87\n"
          ]
        }
      ]
    },
    {
      "cell_type": "code",
      "metadata": {
        "colab": {
          "base_uri": "https://localhost:8080/"
        },
        "id": "5a29mf4jRSYH",
        "outputId": "de82f878-24f0-47b4-8797-9e2c78a9cd70"
      },
      "source": [
        "class Private:\n",
        "    def __init__(self):\n",
        "        self.pri = \"Private\"\n",
        "        self.__p = \"this is private number\"\n",
        "        print(\"Calling private member of class: \")\n",
        "        print(self.__p)\n",
        "\n",
        "class Derived(Private):\n",
        "    def __init__(self):   \n",
        "        # Calling constructor of Private class\n",
        "        Private.__init__(self)\n",
        "\n",
        "\n",
        "obj1 = Private()\n",
        "print(obj1.pri)\n",
        "obj2 = Derived()\n",
        "print(obj2.pri)\n",
        "#print(obj2.__p). as this is private we get error"
      ],
      "execution_count": 3,
      "outputs": [
        {
          "output_type": "stream",
          "name": "stdout",
          "text": [
            "Calling private member of class: \n",
            "this is private number\n",
            "Private\n",
            "Calling private member of class: \n",
            "this is private number\n",
            "Private\n"
          ]
        }
      ]
    },
    {
      "cell_type": "code",
      "metadata": {
        "colab": {
          "base_uri": "https://localhost:8080/"
        },
        "id": "VJho2VHqRfBd",
        "outputId": "9493b2f5-4fb7-4b6b-b663-11f13aa0c810"
      },
      "source": [
        "class Student:\n",
        "  score=0\n",
        "  def __init__(self,num) :\n",
        "    Student.score=Student.score+num\n",
        "\n",
        "s1=Student(20)\n",
        "s2=Student(71)\n",
        "s3=Student(14)\n",
        "\n",
        "print(\"Total Score:\", Student.score)\n",
        "print(\"Total Score:\", s2.score)"
      ],
      "execution_count": 4,
      "outputs": [
        {
          "output_type": "stream",
          "name": "stdout",
          "text": [
            "Total Score: 105\n",
            "Total Score: 105\n"
          ]
        }
      ]
    },
    {
      "cell_type": "code",
      "metadata": {
        "colab": {
          "base_uri": "https://localhost:8080/"
        },
        "id": "MoYFZkk8Riyd",
        "outputId": "7120d1ee-27f4-4a53-de9d-375d2129401e"
      },
      "source": [
        "class Student:\n",
        "    def __init__(self) :\n",
        "        print(\"This is non parametrized constructor with no arguments or parameters\") \n",
        "\n",
        "    def showscore(self,score):\n",
        "        print(\"Your score:\", score * score)\n",
        "        return score\n",
        "s1=Student()\n",
        "s2=Student()\n",
        "s3=Student()\n",
        "\n",
        "result1= s1.showscore(5)\n",
        "result2= s2.showscore(6)\n",
        "\n",
        "print(\"number of Students in OOP class :\", result1,result2)"
      ],
      "execution_count": 5,
      "outputs": [
        {
          "output_type": "stream",
          "name": "stdout",
          "text": [
            "This is non parametrized constructor with no arguments or parameters\n",
            "This is non parametrized constructor with no arguments or parameters\n",
            "This is non parametrized constructor with no arguments or parameters\n",
            "Your score: 25\n",
            "Your score: 36\n",
            "number of Students in OOP class : 5 6\n"
          ]
        }
      ]
    },
    {
      "cell_type": "code",
      "metadata": {
        "colab": {
          "base_uri": "https://localhost:8080/"
        },
        "id": "v2hRqDimRmzL",
        "outputId": "19be9dac-5742-4725-d905-c948403b222b"
      },
      "source": [
        "\n",
        "class Student:\n",
        "    count=0\n",
        "    def __init__(self,name_,age_) :\n",
        "        self.name = name_\n",
        "        self.age = age_\n",
        "        print(\"This is parametrized constructor with no arguments or parameters\") \n",
        "\n",
        "    def display(self,styear):\n",
        "        print(\"Student joined IIIT Dharwad   :\", self.name, self.age, styear)\n",
        "        if styear <= 2020 :\n",
        "            print (\"Student has completed the course\")\n",
        "            return \n",
        "s1=Student(\"Ram\",21)\n",
        "s2=Student(\"Krishna\",23)\n",
        "s3=Student(\"Kumar\",22)\n",
        "\n",
        "s1.display(2021)\n",
        "s2.display(2019)"
      ],
      "execution_count": 6,
      "outputs": [
        {
          "output_type": "stream",
          "name": "stdout",
          "text": [
            "This is parametrized constructor with no arguments or parameters\n",
            "This is parametrized constructor with no arguments or parameters\n",
            "This is parametrized constructor with no arguments or parameters\n",
            "Student joined IIIT Dharwad   : Ram 21 2021\n",
            "Student joined IIIT Dharwad   : Krishna 23 2019\n",
            "Student has completed the course\n"
          ]
        }
      ]
    },
    {
      "cell_type": "code",
      "metadata": {
        "colab": {
          "base_uri": "https://localhost:8080/"
        },
        "id": "R6ueREgdRqDV",
        "outputId": "5ed228cc-23dc-4111-e67e-96b685670a0f"
      },
      "source": [
        "class Family:\n",
        "    members = 0\n",
        "    def __init__(self,name):\n",
        "        self.name = name\n",
        "        self.__lastname = 'Gumen'\n",
        "    def get_name(self):\n",
        "        return self.name\n",
        "    def add_to_family(self):\n",
        "        Family.members = Family.members + 1\n",
        "    print(\"Successfully added to the family\")\n",
        "    def get_count(self):\n",
        "        return Family.members\n",
        "    def get_lastName(self):\n",
        "        print(self.__lastname) #cant be accessed\n",
        "\n",
        "person = Family(\"Ram\")\n",
        "print(person.get_name())\n",
        "person.add_to_family()\n",
        "print(person.get_count())\n",
        "\n",
        "print('\\n')\n",
        "person_2 = Family(\"Lakshman\")\n",
        "print(person_2.get_name())\n",
        "person_2.add_to_family()\n",
        "print(person_2.get_count())\n",
        "\n",
        "print('\\n')\n",
        "person_3 = Family(\"Siva\")\n",
        "print(person_3.get_name())\n",
        "person_3.add_to_family()\n",
        "print(person_3.get_count())\n",
        "\n",
        "print('\\n')\n",
        "person.__last_name = 'Aranya'\n",
        "#person.get_lastName can't be accessed"
      ],
      "execution_count": 7,
      "outputs": [
        {
          "output_type": "stream",
          "name": "stdout",
          "text": [
            "Successfully added to the family\n",
            "Ram\n",
            "1\n",
            "\n",
            "\n",
            "Lakshman\n",
            "2\n",
            "\n",
            "\n",
            "Siva\n",
            "3\n",
            "\n",
            "\n"
          ]
        }
      ]
    }
  ]
}