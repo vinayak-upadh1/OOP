{
  "nbformat": 4,
  "nbformat_minor": 0,
  "metadata": {
    "colab": {
      "name": "Lab Assign 1",
      "provenance": [],
      "collapsed_sections": [],
      "authorship_tag": "ABX9TyOaj60prxFBvOt0PZONf1Vl",
      "include_colab_link": true
    },
    "kernelspec": {
      "name": "python3",
      "display_name": "Python 3"
    },
    "language_info": {
      "name": "python"
    }
  },
  "cells": [
    {
      "cell_type": "markdown",
      "metadata": {
        "id": "view-in-github",
        "colab_type": "text"
      },
      "source": [
        "<a href=\"https://colab.research.google.com/github/vinayak-upadh1/OOP/blob/main/Lab_Assign_1.ipynb\" target=\"_parent\"><img src=\"https://colab.research.google.com/assets/colab-badge.svg\" alt=\"Open In Colab\"/></a>"
      ]
    },
    {
      "cell_type": "code",
      "metadata": {
        "colab": {
          "base_uri": "https://localhost:8080/"
        },
        "id": "87jkFNGTSZaa",
        "outputId": "685f748e-24e9-4cfa-9dd4-4bb5506f74df"
      },
      "source": [
        "def checkyear(year):\n",
        "  if(year%400 == 0):\n",
        "    return(True)\n",
        "  elif(year%4==0 and year %100 != 0):\n",
        "    return(TRUE)\n",
        "  else:\n",
        "    return(False)\n",
        "\n",
        "print(\"**********PROBLEM-I**********\\n\")\n",
        "year = int(input(\"Enter the Year: \"))\n",
        "checkyear(year)\n"
      ],
      "execution_count": null,
      "outputs": [
        {
          "name": "stdout",
          "output_type": "stream",
          "text": [
            "**********PROBLEM-I**********\n",
            "\n",
            "Enter the Year: 45635\n"
          ]
        },
        {
          "output_type": "execute_result",
          "data": {
            "text/plain": [
              "False"
            ]
          },
          "metadata": {},
          "execution_count": 7
        }
      ]
    },
    {
      "cell_type": "code",
      "metadata": {
        "colab": {
          "base_uri": "https://localhost:8080/"
        },
        "id": "jucWk_WsVPcE",
        "outputId": "df7013f3-2d23-4c94-df6c-ab8719cd03ef"
      },
      "source": [
        "print(\"****************PROBLEM-II************\\n\")\n",
        "n = int(input(\"Enter the number: \"))\n",
        "if(n%2 != 0):\n",
        "  print(\"Weird\")  \n",
        "elif(n%2 == 0):\n",
        "  if(n>= 2 and n<=5):\n",
        "    print(\"Not Weird\")\n",
        "  if(n>=6 and n<=20):\n",
        "    print(\"Weird\")\n",
        "  if(n>20):\n",
        "    print(\"Not Weird\")  "
      ],
      "execution_count": null,
      "outputs": [
        {
          "output_type": "stream",
          "name": "stdout",
          "text": [
            "****************PROBLEM-II************\n",
            "\n",
            "Enter the number: 45\n",
            "Weird\n"
          ]
        }
      ]
    },
    {
      "cell_type": "code",
      "metadata": {
        "id": "UgTMoIF7dHyB",
        "colab": {
          "base_uri": "https://localhost:8080/"
        },
        "outputId": "2a3659a6-d676-488c-dd15-923c6ad60fc5"
      },
      "source": [
        "print(\"*****************PROBLEM-III*************\\n\")\n",
        "n = int(input(\"Enter the number of guests: \"))\n",
        "guests = []\n",
        "for i in range(0, n):\n",
        "  name = str(input(\"enter the name of guests: \"))\n",
        "  guests.append([name])\n",
        "print(\"Guests are: \", guests)\n",
        "if(n%2==0):\n",
        "  for k in range( int((n)/2) , n-1):\n",
        "    print(\"\\nFashionable late persons are: \", guests[k])\n",
        "elif(n%2 != 0):\n",
        "  for k in range( int((n-1)/2) , n-1):\n",
        "    print(\"\\nFashionable late persons are: \", guests[k])\n",
        "\n",
        "\n",
        "\n"
      ],
      "execution_count": null,
      "outputs": [
        {
          "output_type": "stream",
          "name": "stdout",
          "text": [
            "*****************PROBLEM-III*************\n",
            "\n",
            "Enter the number of guests: 7\n",
            "enter the name of guests: hardik\n",
            "enter the name of guests: rahul\n",
            "enter the name of guests: virat\n",
            "enter the name of guests: rishabh\n",
            "enter the name of guests: sahmi\n",
            "enter the name of guests: bumrah\n",
            "enter the name of guests: rohit\n",
            "Guests are:  [['hardik'], ['rahul'], ['virat'], ['rishabh'], ['sahmi'], ['bumrah'], ['rohit']]\n",
            "Fashionable late persons are:  ['rishabh']\n",
            "Fashionable late persons are:  ['sahmi']\n",
            "Fashionable late persons are:  ['bumrah']\n"
          ]
        }
      ]
    },
    {
      "cell_type": "code",
      "metadata": {
        "colab": {
          "base_uri": "https://localhost:8080/"
        },
        "id": "kc1bzCxHetHw",
        "outputId": "47a5b35e-538f-4987-e498-424d8c7076a8"
      },
      "source": [
        "print(\"*****************PROBLE-IV***********\\n\")\n",
        "def word_search_2(title_list, keyword):\n",
        "    # make lowercase and remove punctuation\n",
        "    keyword = keyword.lower().strip('.,')\n",
        "\n",
        "    result_list = []\n",
        "    for i, title in enumerate(title_list):\n",
        "        # make lowercase and remove punctuation, then split into words\n",
        "        words = title.lower().strip('.,').split()\n",
        "\n",
        "        if keyword in words:\n",
        "            result_list.append((i, title))\n",
        "\n",
        "    return result_list\n",
        "\n",
        "if __name__ == '__main__':\n",
        "    docs = [\n",
        "        'The Learn Python Challenge Casino',\n",
        "        'They bought a car, and a horse',\n",
        "        'The big casino.',\n",
        "        'Casinoville?',\n",
        "    ]\n",
        "    w = 'casino'\n",
        "\n",
        "    print(word_search_2(docs, w))"
      ],
      "execution_count": null,
      "outputs": [
        {
          "output_type": "stream",
          "name": "stdout",
          "text": [
            "[(0, 'The Learn Python Challenge Casino'), (2, 'The big casino.')]\n"
          ]
        }
      ]
    },
    {
      "cell_type": "code",
      "metadata": {
        "colab": {
          "base_uri": "https://localhost:8080/"
        },
        "id": "Oen6MgCIZW5c",
        "outputId": "d854f98e-c05a-4476-f206-dbead4b572c9"
      },
      "source": [
        "print(\"*************PROBLEM-V*************\\n\")\n",
        "bp = float(input(\"Enter the Basic Pay: \"))\n",
        "da = (40*bp)/100\n",
        "hra = (20*bp)/100\n",
        "gp = bp + da + hra\n",
        "print(gp)"
      ],
      "execution_count": null,
      "outputs": [
        {
          "output_type": "stream",
          "name": "stdout",
          "text": [
            "*************PROBLEM-V*************\n",
            "\n",
            "Enter the Basic Pay: 4652\n",
            "7443.2\n"
          ]
        }
      ]
    }
  ]
}