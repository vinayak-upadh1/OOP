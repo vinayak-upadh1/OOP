{
  "nbformat": 4,
  "nbformat_minor": 0,
  "metadata": {
    "colab": {
      "name": "OOP Task 5 ",
      "provenance": [],
      "authorship_tag": "ABX9TyOsYXXuabYWpvR/rUERxK0Z",
      "include_colab_link": true
    },
    "kernelspec": {
      "name": "python3",
      "display_name": "Python 3"
    },
    "language_info": {
      "name": "python"
    }
  },
  "cells": [
    {
      "cell_type": "markdown",
      "metadata": {
        "id": "view-in-github",
        "colab_type": "text"
      },
      "source": [
        "<a href=\"https://colab.research.google.com/github/vinayak-upadh1/OOP/blob/main/OOP_Task_5.ipynb\" target=\"_parent\"><img src=\"https://colab.research.google.com/assets/colab-badge.svg\" alt=\"Open In Colab\"/></a>"
      ]
    },
    {
      "cell_type": "markdown",
      "metadata": {
        "id": "3-2cqxpxwZn7"
      },
      "source": [
        "**PROBLEM 1**"
      ]
    },
    {
      "cell_type": "code",
      "metadata": {
        "colab": {
          "base_uri": "https://localhost:8080/"
        },
        "id": "qmCOvSahpbI1",
        "outputId": "245a14e3-af2e-4a8b-d768-3484fa8c971a"
      },
      "source": [
        "class shape():\n",
        "  def area(self):\n",
        "    pass\n",
        "\n",
        "class circle(shape):\n",
        "  def __init__(self, r):\n",
        "    self.r = r\n",
        "  \n",
        "  def area(self):\n",
        "    a = 3.14*self.r\n",
        "    print(\"Area of Circle is: \", a)\n",
        "\n",
        "class square(shape):\n",
        "  def __init__(self, l):\n",
        "    self.l = l\n",
        "  \n",
        "  def area(self):\n",
        "    b = self.l*self.l\n",
        "    print(\"Area of Square is: \", b)\n",
        "\n",
        "class rectangle(shape):\n",
        "  def __init__(self, length, breadth):\n",
        "    self.length = length\n",
        "    self.breadth = breadth\n",
        "  \n",
        "  def area(self):\n",
        "    c = self.length*self.breadth\n",
        "    print(\"Area of Rectangle is: \", c)\n",
        "\n",
        "A = circle(3)\n",
        "A.area()\n",
        "\n",
        "B = square(3)\n",
        "B.area()\n",
        "\n",
        "C = rectangle(3, 4)\n",
        "C.area()"
      ],
      "execution_count": 1,
      "outputs": [
        {
          "output_type": "stream",
          "name": "stdout",
          "text": [
            "Area of Circle is:  9.42\n",
            "Area of Square is:  9\n",
            "Area of Rectangle is:  12\n"
          ]
        }
      ]
    },
    {
      "cell_type": "markdown",
      "metadata": {
        "id": "pSTO2xGIAvj3"
      },
      "source": [
        "**PROBLEM 3**"
      ]
    },
    {
      "cell_type": "code",
      "metadata": {
        "colab": {
          "base_uri": "https://localhost:8080/"
        },
        "id": "ZzRy45UZwdc3",
        "outputId": "c1187568-219e-4ab5-aa54-f4f27977780b"
      },
      "source": [
        "class car():\n",
        "  def __init__(self, model_no):\n",
        "    self.model_no = model_no\n",
        "    \n",
        "  def get(self):\n",
        "    return self.model_no\n",
        "\n",
        "c1 = car('UV123')\n",
        "a = c1.get()\n",
        "c2 = car('XZ456')\n",
        "b = c2.get()\n",
        "\n",
        "print(\"Model number of Car 1 is: \", a)\n",
        "print(\"Model number of Car 2 is: \", b)\n",
        "\n",
        "a, b = b, a \n",
        "\n",
        "print(\"Model Number of Car 1 and Car 2 after swaping respectively are: \", a, b)"
      ],
      "execution_count": 14,
      "outputs": [
        {
          "output_type": "stream",
          "name": "stdout",
          "text": [
            "Model number of Car 1 is:  UV123\n",
            "Model number of Car 2 is:  XZ456\n",
            "Model Number of Car 1 and Car 2 after swaping respectively are:  XZ456 UV123\n"
          ]
        }
      ]
    },
    {
      "cell_type": "markdown",
      "metadata": {
        "id": "PXKCZLu6zawl"
      },
      "source": [
        "**PROBLEM 2**"
      ]
    },
    {
      "cell_type": "code",
      "metadata": {
        "colab": {
          "base_uri": "https://localhost:8080/"
        },
        "id": "0fbuTfsWAzaI",
        "outputId": "5728948b-e8a6-4f74-92f5-caf298d390a8"
      },
      "source": [
        "class Travel:\n",
        "    def __init__(self, passengers, distance, mode):\n",
        "        self.__passengers = passengers\n",
        "        self.distance = distance\n",
        "        self.mode = mode\n",
        "\n",
        "    def getPassengers(self):\n",
        "        return self.__passengers\n",
        "\n",
        "class Train(Travel):\n",
        "    def costOfTrip(self):\n",
        "        self.costPerPerson = 60\n",
        "        return (self.getPassengers() * self.costPerPerson)\n",
        "\n",
        "\n",
        "class Bus(Travel):\n",
        "    def costOfTrip(self):\n",
        "        self.costPerPerson = 100\n",
        "        return (self.getPassengers() * self.costPerPerson)\n",
        "\n",
        "\n",
        "t1 = Train(5, 60, \"Train\")\n",
        "print(f\"Cost to travel from Train : {t1.costOfTrip()}\")\n",
        "\n",
        "b1 = Bus(5, 60, \"Bus\")\n",
        "print(f\"Cost to travel from Bus : {b1.costOfTrip()}\")"
      ],
      "execution_count": 1,
      "outputs": [
        {
          "output_type": "stream",
          "name": "stdout",
          "text": [
            "Cost to travel from Train : 300\n",
            "Cost to travel from Bus : 500\n"
          ]
        }
      ]
    }
  ]
}