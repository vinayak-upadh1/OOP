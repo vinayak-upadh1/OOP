{
  "nbformat": 4,
  "nbformat_minor": 0,
  "metadata": {
    "colab": {
      "name": "lab assign 3",
      "provenance": [],
      "authorship_tag": "ABX9TyNkTx++wgc/Oq5/0mwqpdwj",
      "include_colab_link": true
    },
    "kernelspec": {
      "name": "python3",
      "display_name": "Python 3"
    },
    "language_info": {
      "name": "python"
    }
  },
  "cells": [
    {
      "cell_type": "markdown",
      "metadata": {
        "id": "view-in-github",
        "colab_type": "text"
      },
      "source": [
        "<a href=\"https://colab.research.google.com/github/vinayak-upadh1/OOP/blob/main/lab_assign_3.ipynb\" target=\"_parent\"><img src=\"https://colab.research.google.com/assets/colab-badge.svg\" alt=\"Open In Colab\"/></a>"
      ]
    },
    {
      "cell_type": "markdown",
      "metadata": {
        "id": "GDXqMRPeFaa0"
      },
      "source": [
        "**PROBLEM 1**"
      ]
    },
    {
      "cell_type": "code",
      "metadata": {
        "colab": {
          "base_uri": "https://localhost:8080/"
        },
        "id": "X1Ti0NCwFGB6",
        "outputId": "e91f3614-34d4-43f7-9dba-7fd2f0425e52"
      },
      "source": [
        "class Student:\n",
        "    def setData(self):\n",
        "        self.name = input(\"Enter the name of student : \")\n",
        "        self.regNo = int(input(\"Enter the Reg No. : \"))\n",
        "        self.age = int(input(\"Enter the age : \"))\n",
        "        self.gender = input(\"Enter Gender : \")\n",
        "        self.branch = input(\"Enter Branch : \")\n",
        "        self.sem = int(input(\"Enter the current sem : \"))\n",
        "\n",
        "    def getData(self):\n",
        "        print(f\"Name : {self.name}\") \n",
        "        print(f\"Reg No. : {self.regNo}\")\n",
        "        print(f\"Age : {self.age}\")\n",
        "        print(f\"Gender : {self.gender}\") \n",
        "        print(f\"Branch : {self.branch}\")\n",
        "        print(f\"Semester : {self.sem}\")\n",
        "\n",
        "class Result(Student):\n",
        "    def setData(self):\n",
        "        Student.setData(self)\n",
        "        self.totalMarks = int(input(\"Enter total marks : \"))\n",
        "        self.percentage = float(input(\"Enter percentage : \"))\n",
        "        self.grade = input(\"Enter grade : \")\n",
        "\n",
        "    def getData(self):\n",
        "        Student.getData(self)\n",
        "        print(f\"Total Marks : {self.totalMarks}\") \n",
        "        print(f\"Percentage : {self.percentage}\") \n",
        "        print(f\"Grade : {self.grade}\")\n",
        "\n",
        "stud1 = Result()\n",
        "stud1.setData()\n",
        "stud1.getData()"
      ],
      "execution_count": 3,
      "outputs": [
        {
          "output_type": "stream",
          "name": "stdout",
          "text": [
            "Enter the name of student : Vinayak Upadhyay\n",
            "Enter the Reg No. : 136\n",
            "Enter the age : 18\n",
            "Enter Gender : M\n",
            "Enter Branch : CSE\n",
            "Enter the current sem : 3\n",
            "Enter total marks : 486\n",
            "Enter percentage : 91\n",
            "Enter grade : A\n",
            "Name : Vinayak Upadhyay\n",
            "Reg No. : 136\n",
            "Age : 18\n",
            "Gender : M\n",
            "Branch : CSE\n",
            "Semester : 3\n",
            "Total Marks : 486\n",
            "Percentage : 91.0\n",
            "Grade : A\n"
          ]
        }
      ]
    },
    {
      "cell_type": "markdown",
      "metadata": {
        "id": "5jLmgRc8FgoD"
      },
      "source": [
        "**PROBLEM 2**"
      ]
    },
    {
      "cell_type": "code",
      "metadata": {
        "colab": {
          "base_uri": "https://localhost:8080/"
        },
        "id": "lBsvCLg4FHJ7",
        "outputId": "3486226d-e7f9-49e5-b9ac-c82e3cf1becb"
      },
      "source": [
        "class PDF:\n",
        "    maxSize = 6000\n",
        "    def __init__(self):\n",
        "        self.creator = input(\"Owner name  : \")\n",
        "        self.description = input(\"Description of the PDF : \")\n",
        "        self.fileSize = int(input(\"File size (Kb) : \"))\n",
        "\n",
        "    def displayDetails(self):\n",
        "        print(f\"Creator : {self.creator}\")\n",
        "        print(f\"Description : {self.description}\") \n",
        "        print(f\"File Size : {self.fileSize}\")\n",
        "\n",
        "    def checkSize(self):\n",
        "        if self.maxSize < self.fileSize:\n",
        "          print(\"File size exceeds the limit.\")\n",
        "\n",
        "\n",
        "class Pictures:\n",
        "    maxDimensions = [1280, 720]\n",
        "    maxSize = 5000\n",
        "    def __init__(self):\n",
        "        self.creator = input(\"Enter the name of creator : \")\n",
        "        self.description = input(\"Enter the description of the image : \")\n",
        "        self.imgDimensions = input(\"Enter image dimensions with space bw : \").split(\" \")\n",
        "        self.fileSize = int(input(\"Enter file size (Kb) : \"))\n",
        "\n",
        "    def displayDetails(self):\n",
        "        print(f\"Creator : {self.creator} \\nDescription : {self.description} \\nImage Dimensions : {self.imgDimensions} \\nFile Size : {self.fileSize}\")\n",
        "\n",
        "    def checkDimensions(self):\n",
        "        if self.maxDimensions[0] < int(self.imgDimensions[0]) or self.maxDimensions[1] < int(self.imgDimensions[1]):\n",
        "            print(\"Image Dimensions is too high\")\n",
        "\n",
        "    def checkSize(self):\n",
        "        if self.fileSize > self.maxSize:\n",
        "          print(\"File size exceeds the limit.\")\n",
        "\n",
        "class CMS(PDF, Pictures):\n",
        "    def __init__(self):\n",
        "        self.PDFlist = []\n",
        "        self.PicturesList = []\n",
        "    \n",
        "    def addPDF(self):\n",
        "        temp = PDF()\n",
        "        self.PDFlist.append(temp)\n",
        "\n",
        "    def addPictures(self):\n",
        "        temp = Pictures()\n",
        "        self.PicturesList.append(temp)\n",
        "\n",
        "    def displayDetails(self):\n",
        "        print(\"PDF details : \")\n",
        "        for element in self.PDFlist:\n",
        "            element.displayDetails()\n",
        "\n",
        "        print(\"Pictures Details : \")\n",
        "        for element in self.PicturesList:\n",
        "            element.displayDetails()\n",
        "\n",
        "    \n",
        "cms1 = CMS()\n",
        "cms1.addPDF()\n",
        "cms1.addPictures()\n",
        "cms1.addPDF()\n",
        "cms1.addPictures()\n",
        "cms1.displayDetails()\n",
        "cms1.PDFlist[1].checkSize()\n",
        "cms1.PicturesList[1].checkSize()\n",
        "cms1.PicturesList[1].checkDimensions()"
      ],
      "execution_count": 4,
      "outputs": [
        {
          "output_type": "stream",
          "name": "stdout",
          "text": [
            "Owner name  : Vinayak Upadhyay\n",
            "Description of the PDF : Assignment\n",
            "File size (Kb) : 3124\n",
            "Enter the name of creator : Vinayak Upadhyay\n",
            "Enter the description of the image : lab assign\n",
            "Enter image dimensions with space bw : 804 670\n",
            "Enter file size (Kb) : 2908\n",
            "Owner name  : Vinayak Upadhyay\n",
            "Description of the PDF : quiz\n",
            "File size (Kb) : 5890\n",
            "Enter the name of creator : Vinayak\n",
            "Enter the description of the image : sdhg\n",
            "Enter image dimensions with space bw : 344 450\n",
            "Enter file size (Kb) : 40\n",
            "PDF details : \n",
            "Creator : Vinayak Upadhyay\n",
            "Description : Assignment\n",
            "File Size : 3124\n",
            "Creator : Vinayak Upadhyay\n",
            "Description : quiz\n",
            "File Size : 5890\n",
            "Pictures Details : \n",
            "Creator : Vinayak Upadhyay \n",
            "Description : lab assign \n",
            "Image Dimensions : ['804', '670'] \n",
            "File Size : 2908\n",
            "Creator : Vinayak \n",
            "Description : sdhg \n",
            "Image Dimensions : ['344', '450'] \n",
            "File Size : 40\n"
          ]
        }
      ]
    },
    {
      "cell_type": "markdown",
      "metadata": {
        "id": "-KUmpxZ4FlXJ"
      },
      "source": [
        "**PROBLEM 3**"
      ]
    },
    {
      "cell_type": "code",
      "metadata": {
        "colab": {
          "base_uri": "https://localhost:8080/"
        },
        "id": "V_eyTMPXFHcA",
        "outputId": "c490d89a-db58-4d7e-caf0-6ba1dd06969b"
      },
      "source": [
        "class Vehicle:\n",
        "    def __init__(self, name, mileage, capacity):\n",
        "        self.name = name\n",
        "        self.mileage = mileage\n",
        "        self.capacity = capacity\n",
        "\n",
        "    def fare(self):\n",
        "        return self.capacity * 100\n",
        "\n",
        "class Bus(Vehicle):\n",
        "    def __init__(self, name, mileage, capacity=50):\n",
        "        Vehicle.__init__(self, name, mileage, capacity)\n",
        "        self.finalAmount = Vehicle.fare(self) * 1.1\n",
        "\n",
        "    def busFare(self):\n",
        "        print(f\"Total Fare : {self.finalAmount}\")\n",
        "\n",
        "car1 = Vehicle(\"Sedan\", 18, 5)\n",
        "print(f\"Car Fare : {car1.fare()}\")\n",
        "bus1 = Bus(\"Rajahamsa\", 5, 50)\n",
        "bus1.busFare()"
      ],
      "execution_count": 5,
      "outputs": [
        {
          "output_type": "stream",
          "name": "stdout",
          "text": [
            "Car Fare : 500\n",
            "Total Fare : 5500.0\n"
          ]
        }
      ]
    }
  ]
}