{
  "nbformat": 4,
  "nbformat_minor": 0,
  "metadata": {
    "colab": {
      "name": "OOP lab assign 2",
      "provenance": [],
      "authorship_tag": "ABX9TyPsP+GuiBH11chQRrud34QY",
      "include_colab_link": true
    },
    "kernelspec": {
      "name": "python3",
      "display_name": "Python 3"
    },
    "language_info": {
      "name": "python"
    }
  },
  "cells": [
    {
      "cell_type": "markdown",
      "metadata": {
        "id": "view-in-github",
        "colab_type": "text"
      },
      "source": [
        "<a href=\"https://colab.research.google.com/github/vinayak-upadh1/OOP/blob/main/OOP_lab_assign_2.ipynb\" target=\"_parent\"><img src=\"https://colab.research.google.com/assets/colab-badge.svg\" alt=\"Open In Colab\"/></a>"
      ]
    },
    {
      "cell_type": "markdown",
      "metadata": {
        "id": "Tdp8BkfYz1_o"
      },
      "source": [
        "**PROBLEM 1**"
      ]
    },
    {
      "cell_type": "code",
      "metadata": {
        "colab": {
          "base_uri": "https://localhost:8080/"
        },
        "id": "gAFD0koTvjnK",
        "outputId": "2b40de71-4f00-4c62-b6d3-9ea7dafc4b0f"
      },
      "source": [
        "class circle():\n",
        "  def __init__(self, r):\n",
        "    self.radius = r\n",
        "  \n",
        "  def area(self):\n",
        "    return self.radius**2*3.14\n",
        "  \n",
        "  def perimeter(self):\n",
        "    return self.radius*2*3.14\n",
        "\n",
        "A = circle(8)\n",
        "print(\"Area of circle is: \", A.area())\n",
        "print(\"Perimeter of circle is: \", A.perimeter())"
      ],
      "execution_count": 3,
      "outputs": [
        {
          "output_type": "stream",
          "name": "stdout",
          "text": [
            "Area of circle is:  200.96\n",
            "Perimeter of circle is:  50.24\n"
          ]
        }
      ]
    },
    {
      "cell_type": "markdown",
      "metadata": {
        "id": "2BKP4d-B0Ew1"
      },
      "source": [
        "**PROBLEM 2**"
      ]
    },
    {
      "cell_type": "code",
      "metadata": {
        "colab": {
          "base_uri": "https://localhost:8080/"
        },
        "id": "SnQ-A5TQ0DZD",
        "outputId": "c10727a6-2a82-41d9-c86c-45526f67f1e2"
      },
      "source": [
        "class Faculty:\n",
        "\n",
        "    def setData(self):\n",
        "        self.name = input(\"Enter the name of the Employee : \") \n",
        "        self.emp_ID = int(input(\"Enter the employee ID : \"))\n",
        "        self.branch = input(\"Enter the branch : \")\n",
        "        self.salary = int(input(\"Enter the salary : \"))\n",
        "\n",
        "    def getData(self):\n",
        "      print(f\"Name: \", {self.name})\n",
        "      print(f\"Employee ID: \", {self.emp_ID})\n",
        "      print(f\"Branch: \", {self.branch})\n",
        "      print(f\"Salary: \", {self.salary})\n",
        "\n",
        "      return self.name, self.emp_ID, self.branch, self.salary\n",
        "\n",
        "list_Faculty = []\n",
        "for i in range(1, 6):\n",
        "    temp = Faculty()\n",
        "    print(f\"\\nEnter the data for employee {i}  : \")\n",
        "    temp.setData()\n",
        "    list_Faculty.append(temp)\n",
        "\n",
        "for i in range(0, 5):\n",
        "    print(f\"\\nData of employee {i+1}  : \")\n",
        "    list_Faculty[i].getData()"
      ],
      "execution_count": 10,
      "outputs": [
        {
          "output_type": "stream",
          "name": "stdout",
          "text": [
            "\n",
            "Enter the data for employee 1  : \n",
            "Enter the name of the Employee : Neha Porwal\n",
            "Enter the employee ID : 092\n",
            "Enter the branch : CSE\n",
            "Enter the salary : 0\n",
            "\n",
            "Enter the data for employee 2  : \n",
            "Enter the name of the Employee : Vinayak Upadhyay\n",
            "Enter the employee ID : 136\n",
            "Enter the branch : CSE\n",
            "Enter the salary : 0\n",
            "\n",
            "Enter the data for employee 3  : \n",
            "Enter the name of the Employee : Tarun Sharma\n",
            "Enter the employee ID : 133\n",
            "Enter the branch : CSE\n",
            "Enter the salary : 0\n",
            "\n",
            "Enter the data for employee 4  : \n",
            "Enter the name of the Employee : Harshita N.G.\n",
            "Enter the employee ID : 055\n",
            "Enter the branch : CSE\n",
            "Enter the salary : 0\n",
            "\n",
            "Enter the data for employee 5  : \n",
            "Enter the name of the Employee : Nikhil\n",
            "Enter the employee ID : 135\n",
            "Enter the branch : CSE\n",
            "Enter the salary : 0\n",
            "\n",
            "Data of employee 1  : \n",
            "Name:  {'Neha Porwal'}\n",
            "Employee ID:  {92}\n",
            "Branch:  {'CSE'}\n",
            "Salary:  {0}\n",
            "\n",
            "Data of employee 2  : \n",
            "Name:  {'Vinayak Upadhyay'}\n",
            "Employee ID:  {136}\n",
            "Branch:  {'CSE'}\n",
            "Salary:  {0}\n",
            "\n",
            "Data of employee 3  : \n",
            "Name:  {'Tarun Sharma'}\n",
            "Employee ID:  {133}\n",
            "Branch:  {'CSE'}\n",
            "Salary:  {0}\n",
            "\n",
            "Data of employee 4  : \n",
            "Name:  {'Harshita N.G.'}\n",
            "Employee ID:  {55}\n",
            "Branch:  {'CSE'}\n",
            "Salary:  {0}\n",
            "\n",
            "Data of employee 5  : \n",
            "Name:  {'Nikhil'}\n",
            "Employee ID:  {135}\n",
            "Branch:  {'CSE'}\n",
            "Salary:  {0}\n"
          ]
        }
      ]
    },
    {
      "cell_type": "markdown",
      "metadata": {
        "id": "GKZoU6ev0h6q"
      },
      "source": [
        "**PROBLEM 3**"
      ]
    },
    {
      "cell_type": "code",
      "metadata": {
        "colab": {
          "base_uri": "https://localhost:8080/"
        },
        "id": "CpDK9X2v0i-Y",
        "outputId": "376d8d65-d9ad-435c-ca59-7e33ae1141f6"
      },
      "source": [
        "class Account:\n",
        "    def __init__(self, accNo, accHolder, amount):\n",
        "        self.accountNumber = accNo\n",
        "        self.accountHolder = accHolder\n",
        "        self.accountAmount = amount\n",
        "\n",
        "    def deposit(self):\n",
        "        depAmount = int(input(\"Enter the amount to deposit : \"))\n",
        "        self.accountAmount += depAmount\n",
        "        print(f\"Amount deposited : {depAmount}\")\n",
        "        print(f\"New Balance : {self.accountAmount}\")\n",
        "\n",
        "    def withdraw(self):\n",
        "        withAmount = int(input(\"Enter the amount to withdraw : \"))\n",
        "        if withAmount > self.accountAmount:\n",
        "            print(\"Your Account don't have sufficient ammount !!\")\n",
        "            return -1\n",
        "        self.accountAmount -= withAmount\n",
        "        print(f\"Amount withdraw : {withAmount}\")\n",
        "        print(f\"New Balance : {self.accountAmount}\")\n",
        "        return withAmount\n",
        "\n",
        "    def checkBalance(self):\n",
        "        print(f\"Balance : {self.accountAmount}\")\n",
        "        return self.accountAmount\n",
        "\n",
        "    def getDetails(self):\n",
        "        print(f\"Account Number : {self.accountNumber}\")\n",
        "        print(f\"Account Holder : {self.accountHolder}\") \n",
        "        print(f\"Balance : {self.accountAmount}\")\n",
        "        return self.accountNumber, self.accountHolder, self.accountAmount\n",
        "\n",
        "N = Account(100, \"Vinayak Upadhyay\", 1000)\n",
        "N.deposit()\n",
        "withdraw = N.withdraw()\n",
        "balance = N.checkBalance()\n",
        "details = N.getDetails()"
      ],
      "execution_count": 11,
      "outputs": [
        {
          "output_type": "stream",
          "name": "stdout",
          "text": [
            "Enter the amount to deposit : 20000\n",
            "Amount deposited : 20000\n",
            "New Balance : 21000\n",
            "Enter the amount to withdraw : 5670\n",
            "Amount withdraw : 5670\n",
            "New Balance : 15330\n",
            "Balance : 15330\n",
            "Account Number : 100\n",
            "Account Holder : Vinayak Upadhyay\n",
            "Balance : 15330\n"
          ]
        }
      ]
    },
    {
      "cell_type": "markdown",
      "metadata": {
        "id": "8zsnkGNb0q_y"
      },
      "source": [
        "**PROBLEM 4**"
      ]
    },
    {
      "cell_type": "code",
      "metadata": {
        "colab": {
          "base_uri": "https://localhost:8080/"
        },
        "id": "g0RVRMCk0sNZ",
        "outputId": "49f2a45e-8997-43a2-82e1-fda710ef43ed"
      },
      "source": [
        "class Records:\n",
        "\n",
        "    def setData(self):\n",
        "        self.name = input(\"Enter the name of the student : \")\n",
        "        self.ID = int(input(\"Enter the USN of the student : \"))\n",
        "        self.marks = []\n",
        "        for i in range(1, 4):\n",
        "            marks = input(f\"Enter the marks for subject {i} : \")\n",
        "            self.marks.append(marks)\n",
        "\n",
        "    def getData(self):\n",
        "        print(f\"Name : {self.name}\")\n",
        "        print(f\"USN : {self.ID}\") \n",
        "        print(f\"Marks : \\nSubject 1 : {self.marks[0]} \\nSubject 2 : {self.marks[1]} \\nSubject 3 : {self.marks[2]}\")\n",
        "        return self.name, self.ID, self.marks\n",
        "\n",
        "s1 = Records()\n",
        "s1.setData()\n",
        "list1 = s1.getData()\n",
        "print(list1)"
      ],
      "execution_count": 18,
      "outputs": [
        {
          "output_type": "stream",
          "name": "stdout",
          "text": [
            "Enter the name of the student : Vinayak Upadhyay\n",
            "Enter the USN of the student : 136\n",
            "Enter the marks for subject 1 : 93\n",
            "Enter the marks for subject 2 : 90\n",
            "Enter the marks for subject 3 : 95\n",
            "Name : Vinayak Upadhyay\n",
            "USN : 136\n",
            "Marks : \n",
            "Subject 1 : 93 \n",
            "Subject 2 : 90 \n",
            "Subject 3 : 95\n",
            "('Vinayak Upadhyay', 136, ['93', '90', '95'])\n"
          ]
        }
      ]
    },
    {
      "cell_type": "markdown",
      "metadata": {
        "id": "WR3-q6de08KS"
      },
      "source": [
        "**PROBLEM 5**"
      ]
    },
    {
      "cell_type": "code",
      "metadata": {
        "colab": {
          "base_uri": "https://localhost:8080/"
        },
        "id": "KP40JOpL0ge5",
        "outputId": "24b33c96-494f-4040-8ff0-ae2d12ae8190"
      },
      "source": [
        "class Patient:\n",
        "    def setData(self):\n",
        "        self.name = input(\"Enter the name of the patient : \")\n",
        "        self.dateOfAdmission = input(\"Enter the date of admission : \")\n",
        "        self.symptoms = input(\"Enter all the symptoms with a space in between : \").split(\" \")\n",
        "        self.oxygenLevel = int(input(\"Enter the oxygen level of the patient : \"))\n",
        "        self.dateOfDischarge = input(\"Enter the date of discharge : \")\n",
        "\n",
        "    def getData(self):\n",
        "        print(f\"\\nName : {self.name} \\nDate of Admission : {self.dateOfAdmission} \\nSymptoms : {self.symptoms} \\nOxygen Level : {self.oxygenLevel} \\nDate of Discharge : {self.dateOfDischarge}\\n\")\n",
        "        return self.name, self.dateOfAdmission, self.symptoms, self.oxygenLevel, self.dateOfDischarge\n",
        "\n",
        "    def checkSeverity(self):\n",
        "        if self.oxygenLevel < 90:\n",
        "            print(\"Patient's condition is severe.\")\n",
        "        else:\n",
        "            print(\"Patient is fine.\")\n",
        "\n",
        "\n",
        "class Hospital:    \n",
        "    def __init__(self):\n",
        "        self.listOfPatients = []\n",
        "        self.oxygenSupport = []\n",
        "\n",
        "    def addPatient(self):\n",
        "        temp = Patient()\n",
        "        temp.setData()\n",
        "        if temp.oxygenLevel < 90:\n",
        "            self.oxygenSupport.append(1)\n",
        "        else:\n",
        "            self.oxygenSupport.append(0)\n",
        "        self.listOfPatients.append(temp)\n",
        "\n",
        "    def checkSeverity(self):\n",
        "        name = input(\"Enter the name of the patient : \")\n",
        "        for i in range(0, len(self.listOfPatients)):\n",
        "            if name == self.listOfPatients[i].name:\n",
        "              self.listOfPatients[i].checkSeverity()\n",
        "              return 1\n",
        "        print(\"Patient not found\")\n",
        "\n",
        "\n",
        "    def getOxygenSupport(self):\n",
        "        return self.oxygenSupport.count(1)\n",
        "\n",
        "    def generalWard(self):\n",
        "        return self.oxygenSupport.count(0)\n",
        "\n",
        "    def totalPatients(self):\n",
        "        return len(self.listOfPatients)\n",
        "\n",
        "\n",
        "H1 = Hospital()\n",
        "\n",
        "for i in range(0, 2):\n",
        "    H1.addPatient()\n",
        "    H1.listOfPatients[i].getData()\n",
        "    H1.listOfPatients[i].checkSeverity()\n",
        "\n",
        "print(H1.getOxygenSupport())\n",
        "print(H1.generalWard())\n",
        "print(H1.totalPatients())\n",
        "H1.checkSeverity()\n"
      ],
      "execution_count": 22,
      "outputs": [
        {
          "output_type": "stream",
          "name": "stdout",
          "text": [
            "Enter the name of the patient : sdgtk\n",
            "Enter the date of admission : 346\n",
            "Enter all the symptoms with a space in between : dtfh ety h\n",
            "Enter the oxygen level of the patient : 92\n",
            "Enter the date of discharge : none\n",
            "\n",
            "Name : sdgtk \n",
            "Date of Admission : 346 \n",
            "Symptoms : ['dtfh', 'ety', 'h'] \n",
            "Oxygen Level : 92 \n",
            "Date of Discharge : none\n",
            "\n",
            "Patient is fine.\n",
            "Enter the name of the patient : er\n",
            "Enter the date of admission : 230487\n",
            "Enter all the symptoms with a space in between : sfb  jhc  wijf\n",
            "Enter the oxygen level of the patient : 90\n",
            "Enter the date of discharge : vebfv[\n",
            "\n",
            "Name : er \n",
            "Date of Admission : 230487 \n",
            "Symptoms : ['sfb', '', 'jhc', '', 'wijf'] \n",
            "Oxygen Level : 90 \n",
            "Date of Discharge : vebfv[\n",
            "\n",
            "Patient is fine.\n",
            "0\n",
            "2\n",
            "2\n",
            "Enter the name of the patient : ljgb \n",
            "Patient not found\n"
          ]
        }
      ]
    },
    {
      "cell_type": "markdown",
      "metadata": {
        "id": "P7HeyOog1NOu"
      },
      "source": [
        "**PROBLEM 6**"
      ]
    },
    {
      "cell_type": "code",
      "metadata": {
        "colab": {
          "base_uri": "https://localhost:8080/"
        },
        "id": "s3VzwAKC1MJc",
        "outputId": "73efbb6a-bf0c-49f5-c974-7508c60e655a"
      },
      "source": [
        "class Time:\n",
        "    def Default(self):\n",
        "        self.hours = 0\n",
        "        self.minutes = 0\n",
        "        self.seconds = 0\n",
        "\n",
        "    def Value(self, hours, minutes, seconds):\n",
        "        if seconds > 59:\n",
        "            tempMinutes = seconds // 60\n",
        "            seconds = seconds % 60\n",
        "            self.seconds = seconds\n",
        "            self.minutes = tempMinutes + minutes\n",
        "        else:\n",
        "            self.seconds = seconds\n",
        "            self.minutes = minutes\n",
        "\n",
        "        if self.minutes > 59:\n",
        "            tempHours = self.minutes // 60\n",
        "            self.minutes = self.minutes % 60\n",
        "            self.hours = tempHours + hours\n",
        "        else:\n",
        "            self.minutes = minutes\n",
        "            self.hours = hours\n",
        "\n",
        "    def display(self):\n",
        "        print(f\"Time : {self.hours}::{self.minutes}::{self.seconds}\")\n",
        "\n",
        "T1 = Time()\n",
        "T1.Default()\n",
        "T1.display()\n",
        "T1.Value(20, 59, 59)\n",
        "T1.display()\n",
        "T1.Value(20, 140, 250)\n",
        "T1.display()\n",
        "T1.Value(20, 140, 50)\n",
        "T1.display()"
      ],
      "execution_count": 12,
      "outputs": [
        {
          "output_type": "stream",
          "name": "stdout",
          "text": [
            "Time : 0::0::0\n",
            "Time : 20::59::59\n",
            "Time : 22::24::10\n",
            "Time : 22::20::50\n"
          ]
        }
      ]
    },
    {
      "cell_type": "markdown",
      "metadata": {
        "id": "GoM2y8_91ggo"
      },
      "source": [
        "**PROBLEM 7**"
      ]
    },
    {
      "cell_type": "code",
      "metadata": {
        "colab": {
          "base_uri": "https://localhost:8080/"
        },
        "id": "kbT-Vg_J1fmB",
        "outputId": "6284ffb9-d3d7-4027-e6a5-8a33dd3c71f7"
      },
      "source": [
        "class Student:\n",
        "    def __init__(self, name, age, rollNo):\n",
        "        self.name = name\n",
        "        self.age = age\n",
        "        self.rollNo = rollNo\n",
        "\n",
        "    @classmethod\n",
        "    def compare(cls, std1, std2):\n",
        "        if std1.age == std2.age:\n",
        "            print(\"Age of the students are equal.\")\n",
        "        else:\n",
        "            print(\"Age of the students are not equal.\")\n",
        "\n",
        "S1 = Student(\"Rahul\", 21, 33)\n",
        "S2 = Student(\"Rohit\", 22, 74)\n",
        "\n",
        "Student.compare(S1, S2)"
      ],
      "execution_count": 13,
      "outputs": [
        {
          "output_type": "stream",
          "name": "stdout",
          "text": [
            "Age of the students are not equal.\n"
          ]
        }
      ]
    },
    {
      "cell_type": "markdown",
      "metadata": {
        "id": "a5pWwB151pYm"
      },
      "source": [
        "**PROBLEM 8**"
      ]
    },
    {
      "cell_type": "code",
      "metadata": {
        "colab": {
          "base_uri": "https://localhost:8080/"
        },
        "id": "AIeq6ycS1oLq",
        "outputId": "88d4d9a6-ddf5-4dc0-9629-3c65787cc12c"
      },
      "source": [
        "class Student:\n",
        "    sem = 3\n",
        "    institute = \"IIIT Dharwad\"\n",
        "    \n",
        "    def setData(self):\n",
        "        self.name = input(\"Enter the name of the student : \")\n",
        "        self.id = int(input(\"Enter the USN of student : \"))\n",
        "\n",
        "    def getInstanceData(self):\n",
        "        print(f\"Name : {self.name}\")\n",
        "        print(f\"USN = {self.id}\")\n",
        "\n",
        "    @classmethod\n",
        "    def getClassData(cls):\n",
        "        print(f\"Semester : {cls.sem}\")\n",
        "        print(f\"Institute : {cls.institute}\")\n",
        "\n",
        "    @staticmethod\n",
        "    def getExplanation():\n",
        "        print(\"Class variables (sem, institute) are printed using ClassMethod and Instance variables (name, id) are printed using Instance Method\")\n",
        "\n",
        "\n",
        "s1 = Student()\n",
        "s1.setData()\n",
        "s1.getInstanceData()\n",
        "Student.getClassData()\n",
        "Student.getExplanation()"
      ],
      "execution_count": 14,
      "outputs": [
        {
          "output_type": "stream",
          "name": "stdout",
          "text": [
            "Enter the name of the student : Vinayak Upadhyay\n",
            "Enter the USN of student : 136\n",
            "Name : Vinayak Upadhyay\n",
            "USN = 136\n",
            "Semester : 3\n",
            "Institute : IIIT Dharwad\n",
            "Class variables (sem, institute) are printed using ClassMethod and Instance variables (name, id) are printed using Instance Method\n"
          ]
        }
      ]
    },
    {
      "cell_type": "markdown",
      "metadata": {
        "id": "mHPcdiqO1wm0"
      },
      "source": [
        "**PROBLEM 9**"
      ]
    },
    {
      "cell_type": "code",
      "metadata": {
        "colab": {
          "base_uri": "https://localhost:8080/"
        },
        "id": "7aAc9Lzw1wBi",
        "outputId": "d23ca1cc-5c1d-40fb-b8db-93bdcc028eb2"
      },
      "source": [
        "class Student:\n",
        "    def setData(self):\n",
        "        self.Name = input(\"Enter the name : \")\n",
        "        self.ID = int(input(\"Enter the Roll Number : \"))\n",
        "        self.sem = int(input(\"Enter the semester number : \"))\n",
        "        self.nLaptop = int(input(\"Enter the number of laptops : \"))\n",
        "        self.listLaptop = []\n",
        "        for i in range (0, self.nLaptop):\n",
        "            tempObj = self.Laptop()\n",
        "            self.listLaptop.append(tempObj)\n",
        "\n",
        "    class Laptop:\n",
        "        def __init__(self):\n",
        "            self.cpu = input(\"Enter the name of the CPU : \")\n",
        "            self.ram = input(\"Enter the RAM of the Laptop : \")\n",
        "            self.hardDisk = input(\"Enter the size of hard disk : \")\n",
        "            self.display = input(\"Enter the display resolution : \")\n",
        "        \n",
        "        def getData(self):\n",
        "            print(f\"CPU : {self.cpu}\") \n",
        "            print(f\"RAM : {self.ram}\")\n",
        "            print(f\"Hard Disk : {self.hardDisk}\")\n",
        "            print(f\"Display Resolution : {self.display}\")\n",
        "\n",
        "    def getData(self):\n",
        "        print(f\"Name : {self.Name}\") \n",
        "        print(f\"USN : {self.ID}\")\n",
        "        print(f\"Semester : {self.sem}\")\n",
        "        print(f\"Number of Laptops : {self.nLaptop}\")\n",
        "        for i in range(0, self.nLaptop):\n",
        "            print(f\"Details of laptop {i+1}  : \")\n",
        "            self.listLaptop[i].getData()\n",
        "\n",
        "S1 = Student()\n",
        "S1.setData()\n",
        "S1.getData()"
      ],
      "execution_count": 17,
      "outputs": [
        {
          "output_type": "stream",
          "name": "stdout",
          "text": [
            "Enter the name : Vinayak Upadhyay\n",
            "Enter the Roll Number : 136\n",
            "Enter the semester number : 3\n",
            "Enter the number of laptops : 1\n",
            "Enter the name of the CPU : intel\n",
            "Enter the RAM of the Laptop : 4\n",
            "Enter the size of hard disk : 80\n",
            "Enter the display resolution : 34\n",
            "Name : Vinayak Upadhyay\n",
            "USN : 136\n",
            "Semester : 3\n",
            "Number of Laptops : 1\n",
            "Details of laptop 1  : \n",
            "CPU : intel\n",
            "RAM : 4\n",
            "Hard Disk : 80\n",
            "Display Resolution : 34\n"
          ]
        }
      ]
    }
  ]
}